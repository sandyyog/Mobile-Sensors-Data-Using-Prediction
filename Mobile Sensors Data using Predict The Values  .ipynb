{
 "cells": [
  {
   "cell_type": "code",
   "execution_count": 1,
   "id": "2a5350df",
   "metadata": {},
   "outputs": [
    {
     "data": {
      "text/html": [
       "<div>\n",
       "<style scoped>\n",
       "    .dataframe tbody tr th:only-of-type {\n",
       "        vertical-align: middle;\n",
       "    }\n",
       "\n",
       "    .dataframe tbody tr th {\n",
       "        vertical-align: top;\n",
       "    }\n",
       "\n",
       "    .dataframe thead th {\n",
       "        text-align: right;\n",
       "    }\n",
       "</style>\n",
       "<table border=\"1\" class=\"dataframe\">\n",
       "  <thead>\n",
       "    <tr style=\"text-align: right;\">\n",
       "      <th></th>\n",
       "      <th>date</th>\n",
       "      <th>time</th>\n",
       "      <th>username</th>\n",
       "      <th>wrist</th>\n",
       "      <th>activity</th>\n",
       "      <th>acceleration_x</th>\n",
       "      <th>acceleration_y</th>\n",
       "      <th>acceleration_z</th>\n",
       "      <th>gyro_x</th>\n",
       "      <th>gyro_y</th>\n",
       "      <th>gyro_z</th>\n",
       "    </tr>\n",
       "  </thead>\n",
       "  <tbody>\n",
       "    <tr>\n",
       "      <th>0</th>\n",
       "      <td>2017-6-30</td>\n",
       "      <td>13:51:15:847724020</td>\n",
       "      <td>viktor</td>\n",
       "      <td>0</td>\n",
       "      <td>0</td>\n",
       "      <td>0.2650</td>\n",
       "      <td>-0.7814</td>\n",
       "      <td>-0.0076</td>\n",
       "      <td>-0.0590</td>\n",
       "      <td>0.0325</td>\n",
       "      <td>-2.9296</td>\n",
       "    </tr>\n",
       "    <tr>\n",
       "      <th>1</th>\n",
       "      <td>2017-6-30</td>\n",
       "      <td>13:51:16:246945023</td>\n",
       "      <td>viktor</td>\n",
       "      <td>0</td>\n",
       "      <td>0</td>\n",
       "      <td>0.6722</td>\n",
       "      <td>-1.1233</td>\n",
       "      <td>-0.2344</td>\n",
       "      <td>-0.1757</td>\n",
       "      <td>0.0208</td>\n",
       "      <td>0.1269</td>\n",
       "    </tr>\n",
       "    <tr>\n",
       "      <th>2</th>\n",
       "      <td>2017-6-30</td>\n",
       "      <td>13:51:16:446233987</td>\n",
       "      <td>viktor</td>\n",
       "      <td>0</td>\n",
       "      <td>0</td>\n",
       "      <td>0.4399</td>\n",
       "      <td>-1.4817</td>\n",
       "      <td>0.0722</td>\n",
       "      <td>-0.9105</td>\n",
       "      <td>0.1063</td>\n",
       "      <td>-2.4367</td>\n",
       "    </tr>\n",
       "    <tr>\n",
       "      <th>3</th>\n",
       "      <td>2017-6-30</td>\n",
       "      <td>13:51:16:646117985</td>\n",
       "      <td>viktor</td>\n",
       "      <td>0</td>\n",
       "      <td>0</td>\n",
       "      <td>0.3031</td>\n",
       "      <td>-0.8125</td>\n",
       "      <td>0.0888</td>\n",
       "      <td>0.1199</td>\n",
       "      <td>-0.4099</td>\n",
       "      <td>-2.9336</td>\n",
       "    </tr>\n",
       "    <tr>\n",
       "      <th>4</th>\n",
       "      <td>2017-6-30</td>\n",
       "      <td>13:51:16:846738994</td>\n",
       "      <td>viktor</td>\n",
       "      <td>0</td>\n",
       "      <td>0</td>\n",
       "      <td>0.4814</td>\n",
       "      <td>-0.9312</td>\n",
       "      <td>0.0359</td>\n",
       "      <td>0.0527</td>\n",
       "      <td>0.4379</td>\n",
       "      <td>2.4922</td>\n",
       "    </tr>\n",
       "    <tr>\n",
       "      <th>...</th>\n",
       "      <td>...</td>\n",
       "      <td>...</td>\n",
       "      <td>...</td>\n",
       "      <td>...</td>\n",
       "      <td>...</td>\n",
       "      <td>...</td>\n",
       "      <td>...</td>\n",
       "      <td>...</td>\n",
       "      <td>...</td>\n",
       "      <td>...</td>\n",
       "      <td>...</td>\n",
       "    </tr>\n",
       "    <tr>\n",
       "      <th>88583</th>\n",
       "      <td>2017-7-9</td>\n",
       "      <td>20:9:15:317911028</td>\n",
       "      <td>viktor</td>\n",
       "      <td>0</td>\n",
       "      <td>0</td>\n",
       "      <td>0.3084</td>\n",
       "      <td>-0.8376</td>\n",
       "      <td>-0.1327</td>\n",
       "      <td>0.4823</td>\n",
       "      <td>2.0124</td>\n",
       "      <td>0.6048</td>\n",
       "    </tr>\n",
       "    <tr>\n",
       "      <th>88584</th>\n",
       "      <td>2017-7-9</td>\n",
       "      <td>20:9:15:517889022</td>\n",
       "      <td>viktor</td>\n",
       "      <td>0</td>\n",
       "      <td>0</td>\n",
       "      <td>0.4977</td>\n",
       "      <td>-1.0027</td>\n",
       "      <td>-0.4397</td>\n",
       "      <td>0.1022</td>\n",
       "      <td>-1.2565</td>\n",
       "      <td>-0.0761</td>\n",
       "    </tr>\n",
       "    <tr>\n",
       "      <th>88585</th>\n",
       "      <td>2017-7-9</td>\n",
       "      <td>20:9:15:717828989</td>\n",
       "      <td>viktor</td>\n",
       "      <td>0</td>\n",
       "      <td>0</td>\n",
       "      <td>0.4587</td>\n",
       "      <td>-1.1780</td>\n",
       "      <td>-0.2827</td>\n",
       "      <td>-1.4500</td>\n",
       "      <td>-0.2792</td>\n",
       "      <td>-1.2616</td>\n",
       "    </tr>\n",
       "    <tr>\n",
       "      <th>88586</th>\n",
       "      <td>2017-7-9</td>\n",
       "      <td>20:9:15:917932987</td>\n",
       "      <td>viktor</td>\n",
       "      <td>0</td>\n",
       "      <td>0</td>\n",
       "      <td>0.2590</td>\n",
       "      <td>-0.8582</td>\n",
       "      <td>-0.0759</td>\n",
       "      <td>-1.5165</td>\n",
       "      <td>0.4560</td>\n",
       "      <td>-1.7755</td>\n",
       "    </tr>\n",
       "    <tr>\n",
       "      <th>88587</th>\n",
       "      <td>2017-7-9</td>\n",
       "      <td>20:9:16:117410004</td>\n",
       "      <td>viktor</td>\n",
       "      <td>0</td>\n",
       "      <td>0</td>\n",
       "      <td>0.3140</td>\n",
       "      <td>-0.8008</td>\n",
       "      <td>-0.0911</td>\n",
       "      <td>0.1183</td>\n",
       "      <td>1.0850</td>\n",
       "      <td>1.2814</td>\n",
       "    </tr>\n",
       "  </tbody>\n",
       "</table>\n",
       "<p>88588 rows × 11 columns</p>\n",
       "</div>"
      ],
      "text/plain": [
       "            date                time username  wrist  activity  \\\n",
       "0      2017-6-30  13:51:15:847724020   viktor      0         0   \n",
       "1      2017-6-30  13:51:16:246945023   viktor      0         0   \n",
       "2      2017-6-30  13:51:16:446233987   viktor      0         0   \n",
       "3      2017-6-30  13:51:16:646117985   viktor      0         0   \n",
       "4      2017-6-30  13:51:16:846738994   viktor      0         0   \n",
       "...          ...                 ...      ...    ...       ...   \n",
       "88583   2017-7-9   20:9:15:317911028   viktor      0         0   \n",
       "88584   2017-7-9   20:9:15:517889022   viktor      0         0   \n",
       "88585   2017-7-9   20:9:15:717828989   viktor      0         0   \n",
       "88586   2017-7-9   20:9:15:917932987   viktor      0         0   \n",
       "88587   2017-7-9   20:9:16:117410004   viktor      0         0   \n",
       "\n",
       "       acceleration_x  acceleration_y  acceleration_z  gyro_x  gyro_y  gyro_z  \n",
       "0              0.2650         -0.7814         -0.0076 -0.0590  0.0325 -2.9296  \n",
       "1              0.6722         -1.1233         -0.2344 -0.1757  0.0208  0.1269  \n",
       "2              0.4399         -1.4817          0.0722 -0.9105  0.1063 -2.4367  \n",
       "3              0.3031         -0.8125          0.0888  0.1199 -0.4099 -2.9336  \n",
       "4              0.4814         -0.9312          0.0359  0.0527  0.4379  2.4922  \n",
       "...               ...             ...             ...     ...     ...     ...  \n",
       "88583          0.3084         -0.8376         -0.1327  0.4823  2.0124  0.6048  \n",
       "88584          0.4977         -1.0027         -0.4397  0.1022 -1.2565 -0.0761  \n",
       "88585          0.4587         -1.1780         -0.2827 -1.4500 -0.2792 -1.2616  \n",
       "88586          0.2590         -0.8582         -0.0759 -1.5165  0.4560 -1.7755  \n",
       "88587          0.3140         -0.8008         -0.0911  0.1183  1.0850  1.2814  \n",
       "\n",
       "[88588 rows x 11 columns]"
      ]
     },
     "execution_count": 1,
     "metadata": {},
     "output_type": "execute_result"
    }
   ],
   "source": [
    "import pandas as pd\n",
    "df=pd.read_csv('run_or_walk.csv')\n",
    "df"
   ]
  },
  {
   "cell_type": "code",
   "execution_count": 4,
   "id": "59932078",
   "metadata": {},
   "outputs": [
    {
     "data": {
      "text/plain": [
       "Index(['date', 'time', 'username', 'wrist', 'activity', 'acceleration_x',\n",
       "       'acceleration_y', 'acceleration_z', 'gyro_x', 'gyro_y', 'gyro_z'],\n",
       "      dtype='object')"
      ]
     },
     "execution_count": 4,
     "metadata": {},
     "output_type": "execute_result"
    }
   ],
   "source": [
    "df.columns"
   ]
  },
  {
   "cell_type": "code",
   "execution_count": 5,
   "id": "5279aced",
   "metadata": {},
   "outputs": [
    {
     "name": "stdout",
     "output_type": "stream",
     "text": [
      "[[ 0.      0.265  -0.7814 -0.0076 -0.059   0.0325]\n",
      " [ 0.      0.6722 -1.1233 -0.2344 -0.1757  0.0208]\n",
      " [ 0.      0.4399 -1.4817  0.0722 -0.9105  0.1063]\n",
      " ...\n",
      " [ 0.      0.4587 -1.178  -0.2827 -1.45   -0.2792]\n",
      " [ 0.      0.259  -0.8582 -0.0759 -1.5165  0.456 ]\n",
      " [ 0.      0.314  -0.8008 -0.0911  0.1183  1.085 ]]\n"
     ]
    }
   ],
   "source": [
    "x=df.iloc[:,[3,5,6,7,8,9]].values\n",
    "y=df.iloc[:,[4]].values\n",
    "print(x)\n"
   ]
  },
  {
   "cell_type": "code",
   "execution_count": 6,
   "id": "9443067b",
   "metadata": {},
   "outputs": [
    {
     "name": "stdout",
     "output_type": "stream",
     "text": [
      "[[0]\n",
      " [0]\n",
      " [0]\n",
      " ...\n",
      " [0]\n",
      " [0]\n",
      " [0]]\n"
     ]
    }
   ],
   "source": [
    "print(y)"
   ]
  },
  {
   "cell_type": "code",
   "execution_count": 7,
   "id": "474d989b",
   "metadata": {},
   "outputs": [
    {
     "data": {
      "text/plain": [
       "array([[-1.        ,  0.44011935, -0.02816635,  0.73560841, -0.04294004,\n",
       "        -0.00493281],\n",
       "       [-1.        ,  0.99240472, -0.46000821, -0.04619097, -0.10743299,\n",
       "        -0.01342014],\n",
       "       [-1.        ,  0.67733623, -0.91269064,  1.01068597, -0.51351202,\n",
       "         0.04860267],\n",
       "       ...,\n",
       "       [-1.        ,  0.70283467, -0.52909786, -0.21268528, -0.81166068,\n",
       "        -0.23104405],\n",
       "       [-1.        ,  0.43198155, -0.12516972,  0.50017235, -0.84841116,\n",
       "         0.30227961],\n",
       "       [-1.        ,  0.50657806, -0.0526698 ,  0.44777663,  0.05504283,\n",
       "         0.75856441]])"
      ]
     },
     "execution_count": 7,
     "metadata": {},
     "output_type": "execute_result"
    }
   ],
   "source": [
    "from sklearn.preprocessing import RobustScaler\n",
    "ys=RobustScaler()\n",
    "x=ys.fit_transform(x)\n",
    "x"
   ]
  },
  {
   "cell_type": "code",
   "execution_count": 8,
   "id": "bf459507",
   "metadata": {},
   "outputs": [
    {
     "name": "stdout",
     "output_type": "stream",
     "text": [
      "Nevie Bayes Accuracy: 0.9551303758889265\n",
      "[[8778  720]\n",
      " [  75 8145]]\n"
     ]
    },
    {
     "name": "stderr",
     "output_type": "stream",
     "text": [
      "C:\\Anaconda\\lib\\site-packages\\sklearn\\utils\\validation.py:63: DataConversionWarning: A column-vector y was passed when a 1d array was expected. Please change the shape of y to (n_samples, ), for example using ravel().\n",
      "  return f(*args, **kwargs)\n"
     ]
    }
   ],
   "source": [
    "from sklearn.model_selection import train_test_split\n",
    "x_train,x_test,y_train,y_test=train_test_split(x,y,test_size=0.2)\n",
    "from sklearn.naive_bayes import GaussianNB\n",
    "gnb=GaussianNB()\n",
    "gnb.fit(x_train,y_train)\n",
    "gnb_out=gnb.predict(x_test)\n",
    "from sklearn.metrics import accuracy_score\n",
    "gnb_acc=accuracy_score(gnb_out,y_test)\n",
    "print('Nevie Bayes Accuracy:',gnb_acc)\n",
    "from sklearn.metrics import confusion_matrix\n",
    "gnb_cm=confusion_matrix(gnb_out,y_test)\n",
    "print(gnb_cm)"
   ]
  },
  {
   "cell_type": "code",
   "execution_count": 9,
   "id": "94f64043",
   "metadata": {},
   "outputs": [
    {
     "name": "stdout",
     "output_type": "stream",
     "text": [
      "0.9551303758889265\n"
     ]
    }
   ],
   "source": [
    "print((8708+8215)/(8708+732+63+8215))"
   ]
  },
  {
   "cell_type": "code",
   "execution_count": 10,
   "id": "6ff4771f",
   "metadata": {},
   "outputs": [
    {
     "name": "stdout",
     "output_type": "stream",
     "text": [
      "              precision    recall  f1-score   support\n",
      "\n",
      "           0       0.99      0.92      0.96      9498\n",
      "           1       0.92      0.99      0.95      8220\n",
      "\n",
      "    accuracy                           0.96     17718\n",
      "   macro avg       0.96      0.96      0.96     17718\n",
      "weighted avg       0.96      0.96      0.96     17718\n",
      "\n"
     ]
    }
   ],
   "source": [
    "from sklearn.metrics import classification_report\n",
    "cl_rp=classification_report(gnb_out,y_test)\n",
    "print(cl_rp)"
   ]
  },
  {
   "cell_type": "code",
   "execution_count": 14,
   "id": "aa2f12ed",
   "metadata": {},
   "outputs": [
    {
     "data": {
      "text/plain": [
       "0.9581781239417542"
      ]
     },
     "execution_count": 14,
     "metadata": {},
     "output_type": "execute_result"
    }
   ],
   "source": [
    "x=df.iloc[:,[5,6,7]]\n",
    "y=df.iloc[:,4]\n",
    "from sklearn.preprocessing import StandardScaler\n",
    "S=StandardScaler()\n",
    "x=S.fit_transform(x)\n",
    "from sklearn.model_selection import train_test_split\n",
    "x_train,x_test,y_train,y_test=train_test_split(x,y,test_size=0.2)\n",
    "from sklearn.naive_bayes import GaussianNB\n",
    "gnb=GaussianNB()\n",
    "gnb.fit(x_train,y_train)\n",
    "gnb_out1=gnb.predict(x_test)\n",
    "from sklearn.metrics import accuracy_score\n",
    "accuracy_score(gnb_out1,y_test)"
   ]
  },
  {
   "cell_type": "code",
   "execution_count": 16,
   "id": "d744e6ca",
   "metadata": {},
   "outputs": [
    {
     "data": {
      "text/plain": [
       "0.646799864544531"
      ]
     },
     "execution_count": 16,
     "metadata": {},
     "output_type": "execute_result"
    }
   ],
   "source": [
    "x=df.iloc[:,[8,9,10]]\n",
    "y=df.iloc[:,4]\n",
    "from sklearn.preprocessing import StandardScaler\n",
    "SS=StandardScaler()\n",
    "x=SS.fit_transform(x)\n",
    "from sklearn.model_selection import train_test_split\n",
    "x_train,x_test,y_train,y_test=train_test_split(x,y,test_size=0.2)\n",
    "from sklearn.naive_bayes import GaussianNB\n",
    "gnb=GaussianNB()\n",
    "gnb.fit(x_train,y_train)\n",
    "gnb_out2=gnb.predict(x_test)\n",
    "from sklearn.metrics import accuracy_score\n",
    "accuracy_score(gnb_out2,y_test)"
   ]
  },
  {
   "cell_type": "code",
   "execution_count": null,
   "id": "768fb754",
   "metadata": {},
   "outputs": [],
   "source": []
  },
  {
   "cell_type": "code",
   "execution_count": null,
   "id": "160e8cca",
   "metadata": {},
   "outputs": [],
   "source": []
  },
  {
   "cell_type": "code",
   "execution_count": null,
   "id": "7d2352b0",
   "metadata": {},
   "outputs": [],
   "source": []
  }
 ],
 "metadata": {
  "kernelspec": {
   "display_name": "Python 3 (ipykernel)",
   "language": "python",
   "name": "python3"
  },
  "language_info": {
   "codemirror_mode": {
    "name": "ipython",
    "version": 3
   },
   "file_extension": ".py",
   "mimetype": "text/x-python",
   "name": "python",
   "nbconvert_exporter": "python",
   "pygments_lexer": "ipython3",
   "version": "3.9.7"
  }
 },
 "nbformat": 4,
 "nbformat_minor": 5
}
